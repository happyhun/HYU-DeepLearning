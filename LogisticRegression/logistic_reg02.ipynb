{
  "cells": [
    {
      "cell_type": "code",
      "execution_count": 261,
      "metadata": {
        "id": "Ko4R5XFZ41rc"
      },
      "outputs": [],
      "source": [
        "import random\n",
        "import math\n",
        "import numpy as np\n",
        "\n",
        "# m 개의 train samples, n개의 test samples, k번의 업데이트\n",
        "m, n, k = 10000, 1000, 5000\n",
        "\n",
        "# train samples 생성\n",
        "x_train, y_train = [], []\n",
        "for i in range(m):\n",
        "    degree_value = random.uniform(0, 360)\n",
        "    sine_value = math.sin(math.radians(degree_value))\n",
        "    x_train.append(degree_value)\n",
        "    if sine_value > 0:\n",
        "        y_train.append(1)\n",
        "    else:\n",
        "        y_train.append(0)\n",
        "x_train = np.array([x_train])\n",
        "y_train = np.array([y_train])\n",
        "\n",
        "\n",
        "# test samples 생성\n",
        "x_test, y_test = [], []\n",
        "for i in range(n):\n",
        "    degree_value = random.uniform(0, 360)\n",
        "    sine_value = math.sin(math.radians(degree_value))\n",
        "    x_test.append(degree_value)\n",
        "    if sine_value > 0:\n",
        "        y_test.append(1)\n",
        "    else:\n",
        "        y_test.append(0)\n",
        "x_test = np.array([x_test])\n",
        "y_test = np.array([y_test])\n"
      ]
    },
    {
      "cell_type": "code",
      "execution_count": 262,
      "metadata": {
        "colab": {
          "base_uri": "https://localhost:8080/"
        },
        "id": "GtWFx6sYGtzw",
        "outputId": "c5fd5b02-84fb-4dec-f4c7-51accf8be81c"
      },
      "outputs": [
        {
          "name": "stdout",
          "output_type": "stream",
          "text": [
            "1번째 W:[[-1.24273549]], b:1.2613032876171328\n",
            "2번째 W:[[-1.26983748]], b:2.4816566167429577\n",
            "3번째 W:[[0.00856182]], b:3.6661587211817204\n",
            "4번째 W:[[-1.11470116]], b:4.800519600545388\n",
            "5번째 W:[[-0.01599277]], b:5.924653664360291\n",
            "6번째 W:[[-0.75655565]], b:7.021363823300022\n",
            "7번째 W:[[-0.00140309]], b:8.098896205182983\n",
            "8번째 W:[[-0.42430561]], b:9.15876898048771\n",
            "9번째 W:[[-0.93453964]], b:10.18655918878288\n",
            "10번째 W:[[-0.31838462]], b:11.212322291249905\n"
          ]
        }
      ],
      "source": [
        "# W, b 를 0으로 초기화\n",
        "b = 0\n",
        "W = np.zeros((1,1))\n",
        "def sigmoid(x):\n",
        "    return 1/(1+np.exp(-x))\n",
        "\n",
        "# alpha 값 지정 후 W, b 업데이트\n",
        "alpha = 0.01\n",
        "for i in range(int(k/500)):\n",
        "    for j in range(int(k/10)):\n",
        "        Z = np.dot(W.T, x_train) + b\n",
        "        A = sigmoid(Z)\n",
        "        dZ = A - y_train\n",
        "        dW = np.dot(x_train, dZ.T) / m\n",
        "        db = np.sum(dZ) / m\n",
        "        W -= alpha * dW\n",
        "        b -= alpha * db\n",
        "    print(f'{i+1}번째 W:{W}, b:{b}')"
      ]
    },
    {
      "cell_type": "code",
      "execution_count": 263,
      "metadata": {
        "colab": {
          "base_uri": "https://localhost:8080/"
        },
        "id": "n2zQRqM4Hlv9",
        "outputId": "720cffc1-49bc-4dc5-d4e9-7004c013e55e"
      },
      "outputs": [
        {
          "name": "stdout",
          "output_type": "stream",
          "text": [
            "train cost: [[9.05854375]]\n",
            "test cost: [[8.28033125]]\n"
          ]
        }
      ],
      "source": [
        "# train samples에 대한 cost와 test samples에 대한 cost 출력\n",
        "Z_train = np.dot(W.T, x_train) + b\n",
        "A_train = sigmoid(Z_train)\n",
        "J_train = -1 * (np.dot(y_train, np.log(A_train).T) + np.dot((1-y_train), np.log(1-A_train).T)) / m\n",
        "print('train cost:', J_train)\n",
        "\n",
        "Z_test = np.dot(W.T, x_test) + b\n",
        "A_test = sigmoid(Z_test)\n",
        "J_test = -1 * (np.dot(y_test, np.log(A_test).T) + np.dot((1-y_test), np.log(1-A_test).T)) / n\n",
        "print('test cost:', J_test)"
      ]
    },
    {
      "cell_type": "code",
      "execution_count": 264,
      "metadata": {
        "colab": {
          "base_uri": "https://localhost:8080/"
        },
        "id": "VUSnpGOcrmO7",
        "outputId": "1151de87-6b05-4a70-a154-f263874d4063"
      },
      "outputs": [
        {
          "name": "stdout",
          "output_type": "stream",
          "text": [
            "train accuracy: 60.099999999999994\n",
            "test accuracy: 62.4\n"
          ]
        }
      ],
      "source": [
        "# train samples에 대한 accuracy와 test samples에 대한 accuracy 출력\n",
        "A_train[A_train>=0.5] = 1\n",
        "A_train[A_train<0.5] = 0\n",
        "accuracy_train = np.mean(np.equal(y_train, A_train)) * 100\n",
        "print('train accuracy:', accuracy_train) \n",
        "\n",
        "A_test[A_test>=0.5] = 1\n",
        "A_test[A_test<0.5] = 0\n",
        "accuracy_test = np.mean(np.equal(y_test, A_test)) * 100\n",
        "print('test accuracy:', accuracy_test)"
      ]
    }
  ],
  "metadata": {
    "colab": {
      "collapsed_sections": [],
      "name": "딥러닝_과제1.ipynb",
      "provenance": []
    },
    "kernelspec": {
      "display_name": "Python 3",
      "name": "python3"
    },
    "language_info": {
      "codemirror_mode": {
        "name": "ipython",
        "version": 3
      },
      "file_extension": ".py",
      "mimetype": "text/x-python",
      "name": "python",
      "nbconvert_exporter": "python",
      "pygments_lexer": "ipython3",
      "version": "3.9.7"
    }
  },
  "nbformat": 4,
  "nbformat_minor": 0
}
