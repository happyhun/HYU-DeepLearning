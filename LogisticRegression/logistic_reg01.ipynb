{
  "cells": [
    {
      "cell_type": "code",
      "execution_count": 26,
      "metadata": {
        "id": "Ko4R5XFZ41rc"
      },
      "outputs": [],
      "source": [
        "import random\n",
        "import numpy as np\n",
        "\n",
        "# m 개의 train samples, n개의 test samples, k번의 업데이트\n",
        "m, n, k = 10000, 1000, 5000\n",
        "\n",
        "# train samples 생성\n",
        "x1_train, x2_train, y_train = [], [], []\n",
        "for i in range(m):\n",
        "    x1_train.append(random.uniform(-10, 10))\n",
        "    x2_train.append(random.uniform(-10, 10))\n",
        "    if x1_train[-1] + x2_train[-1] > 0:\n",
        "        y_train.append(1)\n",
        "    else:\n",
        "        y_train.append(0)\n",
        "X_train = np.array([x1_train, x2_train])\n",
        "y_train = np.array([y_train])\n",
        "\n",
        "# test samples 생성\n",
        "x1_test, x2_test, y_test = [], [], []\n",
        "for i in range(n):\n",
        "    x1_test.append(random.uniform(-10, 10))\n",
        "    x2_test.append(random.uniform(-10, 10))\n",
        "    if x1_test[-1] + x2_test[-1] > 0:\n",
        "        y_test.append(1)\n",
        "    else:\n",
        "        y_test.append(0)\n",
        "X_test = np.array([x1_test, x2_test])\n",
        "y_test = np.array([y_test])"
      ]
    },
    {
      "cell_type": "code",
      "execution_count": 27,
      "metadata": {
        "id": "GtWFx6sYGtzw",
        "colab": {
          "base_uri": "https://localhost:8080/"
        },
        "outputId": "c5fd5b02-84fb-4dec-f4c7-51accf8be81c"
      },
      "outputs": [
        {
          "output_type": "stream",
          "name": "stdout",
          "text": [
            "1번째 W:[[0.78070398]\n",
            " [0.7832289 ]], b:0.003629865671427081\n",
            "2번째 W:[[1.00699761]\n",
            " [1.00880453]], b:0.0053501336466739964\n",
            "3번째 W:[[1.16437001]\n",
            " [1.16582775]], b:0.006075972829021877\n",
            "4번째 W:[[1.2889854 ]\n",
            " [1.29025266]], b:0.0061638056266837635\n",
            "5번째 W:[[1.39382043]\n",
            " [1.39498219]], b:0.005823704859099266\n",
            "6번째 W:[[1.48519837]\n",
            " [1.48630532]], b:0.005188584738017057\n",
            "7번째 W:[[1.5667302 ]\n",
            " [1.56781468]], b:0.004347029521531394\n",
            "8번째 W:[[1.64069364]\n",
            " [1.64177718]], b:0.003360343678451005\n",
            "9번째 W:[[1.70862761]\n",
            " [1.70972502]], b:0.0022721503146204817\n",
            "10번째 W:[[1.77162588]\n",
            " [1.77274758]], b:0.001114147008129685\n"
          ]
        }
      ],
      "source": [
        "# W, b 를 0으로 초기화\n",
        "b = 0\n",
        "W = np.zeros((2,1))\n",
        "def sigmoid(x):\n",
        "    return 1/(1+np.exp(-x))\n",
        "\n",
        "# alpha 값 지정 후 W, b 업데이트\n",
        "alpha = 0.01\n",
        "for i in range(int(k/500)):\n",
        "    for j in range(int(k/10)):\n",
        "        Z = np.dot(W.T, X_train) + b\n",
        "        A = sigmoid(Z)\n",
        "        dZ = A - y_train\n",
        "        dW = np.dot(X_train, dZ.T) / m\n",
        "        db = np.sum(dZ) / m\n",
        "        W -= alpha * dW\n",
        "        b -= alpha * db\n",
        "    print(f'{i+1}번째 W:{W}, b:{b}')"
      ]
    },
    {
      "cell_type": "code",
      "execution_count": 28,
      "metadata": {
        "colab": {
          "base_uri": "https://localhost:8080/"
        },
        "id": "n2zQRqM4Hlv9",
        "outputId": "720cffc1-49bc-4dc5-d4e9-7004c013e55e"
      },
      "outputs": [
        {
          "output_type": "stream",
          "name": "stdout",
          "text": [
            "train cost: [[0.04429556]]\n",
            "test cost: [[0.04550871]]\n"
          ]
        }
      ],
      "source": [
        "# train samples에 대한 cost와 test samples에 대한 cost 출력\n",
        "Z_train = np.dot(W.T, X_train) + b\n",
        "A_train = sigmoid(Z_train)\n",
        "J_train = -1 * (np.dot(y_train, np.log(A_train).T) + np.dot((1-y_train), np.log(1-A_train).T)) / m\n",
        "print('train cost:', J_train)\n",
        "\n",
        "Z_test = np.dot(W.T, X_test) + b\n",
        "A_test = sigmoid(Z_test)\n",
        "J_test = -1 * (np.dot(y_test, np.log(A_test).T) + np.dot((1-y_test), np.log(1-A_test).T)) / n\n",
        "print('test cost:', J_test)"
      ]
    },
    {
      "cell_type": "code",
      "execution_count": 29,
      "metadata": {
        "colab": {
          "base_uri": "https://localhost:8080/"
        },
        "id": "VUSnpGOcrmO7",
        "outputId": "1151de87-6b05-4a70-a154-f263874d4063"
      },
      "outputs": [
        {
          "output_type": "stream",
          "name": "stdout",
          "text": [
            "train accuracy: 99.98\n",
            "test accuracy: 100.0\n"
          ]
        }
      ],
      "source": [
        "# train samples에 대한 accuracy와 test samples에 대한 accuracy 출력\n",
        "A_train[A_train>=0.5] = 1\n",
        "A_train[A_train<0.5] = 0\n",
        "accuracy_train = np.mean(np.equal(y_train, A_train)) * 100\n",
        "print('train accuracy:', accuracy_train) \n",
        "\n",
        "A_test[A_test>=0.5] = 1\n",
        "A_test[A_test<0.5] = 0\n",
        "accuracy_test = np.mean(np.equal(y_test, A_test)) * 100\n",
        "print('test accuracy:', accuracy_test)"
      ]
    }
  ],
  "metadata": {
    "colab": {
      "collapsed_sections": [],
      "name": "딥러닝_과제1.ipynb",
      "provenance": []
    },
    "kernelspec": {
      "display_name": "Python 3",
      "name": "python3"
    },
    "language_info": {
      "codemirror_mode": {
        "name": "ipython",
        "version": 3
      },
      "file_extension": ".py",
      "mimetype": "text/x-python",
      "name": "python",
      "nbconvert_exporter": "python",
      "pygments_lexer": "ipython3",
      "version": "3.9.7"
    }
  },
  "nbformat": 4,
  "nbformat_minor": 0
}