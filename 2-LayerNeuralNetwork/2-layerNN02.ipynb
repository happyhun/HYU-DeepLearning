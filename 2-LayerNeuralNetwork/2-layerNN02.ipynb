{
  "cells": [
    {
      "cell_type": "code",
      "execution_count": 155,
      "metadata": {
        "colab": {
          "base_uri": "https://localhost:8080/"
        },
        "id": "Ko4R5XFZ41rc",
        "outputId": "d71e3688-286c-4bb4-998f-6fdf378933ad"
      },
      "outputs": [
        {
          "name": "stdout",
          "output_type": "stream",
          "text": [
            "[[0.6648377  0.78954039 0.84375777 ... 0.07780274 0.47432466 0.31234802]]\n",
            "[[0 1 1 ... 1 0 0]]\n"
          ]
        }
      ],
      "source": [
        "import random\n",
        "import math\n",
        "import numpy as np\n",
        "\n",
        "# m개의 train samples, n개의 test samples\n",
        "m, n = 10000, 1000\n",
        "\n",
        "# sample 생성 함수 정의\n",
        "def generate_sample(num):\n",
        "    x, y = [], []\n",
        "    for i in range(num):\n",
        "        degree_value = random.uniform(0, 360)\n",
        "        cosine_value = math.cos(math.radians(degree_value))\n",
        "        x.append(degree_value)\n",
        "        if cosine_value > 0:\n",
        "            y.append(1)\n",
        "        else:\n",
        "            y.append(0)\n",
        "    x = np.array([x]) / 360 # sigmoid의 input이 너무 커지는 것을 방지\n",
        "    y = np.array([y])\n",
        "    \n",
        "    return x, y \n",
        "\n",
        "# train samples 와 test samples 생성\n",
        "x_train, y_train = generate_sample(m)\n",
        "x_test, y_test = generate_sample(n)\n",
        "\n",
        "print(x_train)\n",
        "print(y_train)"
      ]
    },
    {
      "cell_type": "code",
      "execution_count": 156,
      "metadata": {
        "colab": {
          "base_uri": "https://localhost:8080/"
        },
        "id": "GtWFx6sYGtzw",
        "outputId": "56c7361c-28f3-4657-ee01-2f0d863597fe"
      },
      "outputs": [
        {
          "name": "stdout",
          "output_type": "stream",
          "text": [
            "1번째 W1:[[ 0.01524384]\n",
            " [-0.46465071]], W2:[[1.6497718  0.25624298]], b1:[[ 0.58785548]\n",
            " [-0.73673426]], b2:[[-1.1491162]]\n",
            "2번째 W1:[[-0.06495674]\n",
            " [-0.60369363]], W2:[[1.64569323 0.38123503]], b1:[[ 0.58241954]\n",
            " [-0.74528134]], b2:[[-1.15802505]]\n",
            "3번째 W1:[[-0.05106821]\n",
            " [-0.86397393]], W2:[[1.63081906 0.57395998]], b1:[[ 0.57047349]\n",
            " [-0.76564748]], b2:[[-1.18190158]]\n",
            "4번째 W1:[[ 0.0354882]\n",
            " [-1.4520656]], W2:[[1.60286396 0.98386271]], b1:[[ 0.55368094]\n",
            " [-0.78251522]], b2:[[-1.22546768]]\n",
            "5번째 W1:[[ 0.32051789]\n",
            " [-2.98324263]], W2:[[1.56930819 2.0760054 ]], b1:[[ 0.47135199]\n",
            " [-0.50008982]], b2:[[-1.34639735]]\n",
            "6번째 W1:[[ 1.3654257]\n",
            " [-6.27653  ]], W2:[[2.13060273 4.30161538]], b1:[[-0.46402376]\n",
            " [ 0.42459517]], b2:[[-1.80121778]]\n",
            "7번째 W1:[[ 5.25482036]\n",
            " [-9.71137346]], W2:[[6.07173162 7.27492322]], b1:[[-3.95870725]\n",
            " [ 1.88898743]], b2:[[-3.17026988]]\n",
            "8번째 W1:[[  8.10980411]\n",
            " [-11.74063068]], W2:[[9.28500954 9.69215814]], b1:[[-6.12796836]\n",
            " [ 2.73269738]], b2:[[-4.58530702]]\n",
            "9번째 W1:[[  9.58519805]\n",
            " [-12.9451896 ]], W2:[[11.07123172 11.22785448]], b1:[[-7.24403757]\n",
            " [ 3.11402946]], b2:[[-5.40656283]]\n",
            "10번째 W1:[[ 10.57014124]\n",
            " [-13.81196761]], W2:[[12.29133144 12.33465209]], b1:[[-7.99002044]\n",
            " [ 3.35866151]], b2:[[-5.97062368]]\n"
          ]
        }
      ],
      "source": [
        "# W, b 를 초기화\n",
        "W1 = np.random.randn(2,1)\n",
        "b1 = np.random.randn(2,1)\n",
        "W2 = np.random.randn(1,2)\n",
        "b2 = np.random.randn(1,1)\n",
        "\n",
        "def sigmoid(x):\n",
        "    sig = 1 / (1 + np.exp(-x))\n",
        "    return sig\n",
        "\n",
        "# k번 업데이트\n",
        "k = 5000\n",
        "\n",
        "# alpha 값 지정 후 W, b 업데이트\n",
        "alpha = 0.5\n",
        "for i in range(int(k/500)):\n",
        "    for j in range(int(k/10)):\n",
        "        \n",
        "        # forward\n",
        "        Z1 = np.dot(W1, x_train) + b1\n",
        "        A1 = sigmoid(Z1)\n",
        "        Z2 = np.dot(W2, A1) + b2\n",
        "        A2 = sigmoid(Z2)\n",
        "        \n",
        "        # backpropagation\n",
        "        dZ2 = A2 - y_train\n",
        "        dW2 = np.dot(dZ2, A1.T) / m \n",
        "        db2 = np.sum(dZ2, axis=1, keepdims=True) / m\n",
        "        dZ1 = np.dot(W2.T, dZ2) * (A1 * (1 - A1))\n",
        "        dW1 = np.dot(dZ1, x_train.T) / m\n",
        "        db1 = np.sum(dZ1, axis=1, keepdims=True) / m\n",
        "\n",
        "        # W,b 업데이트\n",
        "        W1 -= alpha * dW1\n",
        "        b1 -= alpha * db1\n",
        "        W2 -= alpha * dW2\n",
        "        b2 -= alpha * db2\n",
        "        \n",
        "    # 500번마다 업데이트된 W,b 출력\n",
        "    print(f'{i+1}번째 W1:{W1}, W2:{W2}, b1:{b1}, b2:{b2}')\n"
      ]
    },
    {
      "cell_type": "code",
      "execution_count": 157,
      "metadata": {
        "colab": {
          "base_uri": "https://localhost:8080/"
        },
        "id": "n2zQRqM4Hlv9",
        "outputId": "308e8a5e-4ba6-4275-dba2-88cd94643340"
      },
      "outputs": [
        {
          "name": "stdout",
          "output_type": "stream",
          "text": [
            "train cost: [[0.09704392]]\n",
            "test cost: [[0.09877052]]\n"
          ]
        }
      ],
      "source": [
        "# cross-entropy loss 함수 정의\n",
        "def cost_func(W1, W2, x, y, num):\n",
        "    Z1 = np.dot(W1, x) + b1\n",
        "    A1 = sigmoid(Z1)\n",
        "    Z2 = np.dot(W2, A1) + b2\n",
        "    A2 = sigmoid(Z2)\n",
        "    J = -1 * (np.dot(y, np.log(A2).T) + np.dot((1-y), np.log(1-A2).T)) / num\n",
        "    return J\n",
        "# train cost와 test cost 출력\n",
        "print('train cost:', cost_func(W1, W2, x_train, y_train, m))\n",
        "print('test cost:', cost_func(W1, W2, x_test, y_test, n))"
      ]
    },
    {
      "cell_type": "code",
      "execution_count": 158,
      "metadata": {
        "colab": {
          "base_uri": "https://localhost:8080/"
        },
        "id": "VUSnpGOcrmO7",
        "outputId": "efb975c7-842b-4ff5-9f8f-16fa91ebe03c"
      },
      "outputs": [
        {
          "name": "stdout",
          "output_type": "stream",
          "text": [
            "train_accuracy: 99.91\n",
            "test_accuracy: 99.8\n"
          ]
        }
      ],
      "source": [
        "# train samples에 대한 accuracy와 test samples에 대한 accuracy 출력\n",
        "def accuracy(W1, W2, x, y):\n",
        "    Z1 = np.dot(W1, x) + b1\n",
        "    A1 = sigmoid(Z1)\n",
        "    Z2 = np.dot(W2, A1) + b2\n",
        "    A2 = sigmoid(Z2)\n",
        "    A2[A2 > 0.5] = 1\n",
        "    A2[A2 < 0.5] = 0\n",
        "    accuracy = np.mean(np.equal(y, A2)) * 100\n",
        "    return accuracy\n",
        "\n",
        "print('train_accuracy:', accuracy(W1, W2, x_train, y_train))\n",
        "print('test_accuracy:', accuracy(W1, W2, x_test, y_test))\n",
        "\n"
      ]
    },
    {
      "cell_type": "code",
      "execution_count": null,
      "metadata": {
        "id": "Tu7jIARksmof"
      },
      "outputs": [],
      "source": []
    }
  ],
  "metadata": {
    "colab": {
      "collapsed_sections": [],
      "name": "딥러닝 과제2-1.ipynb",
      "provenance": []
    },
    "kernelspec": {
      "display_name": "Python 3",
      "name": "python3"
    },
    "language_info": {
      "codemirror_mode": {
        "name": "ipython",
        "version": 3
      },
      "file_extension": ".py",
      "mimetype": "text/x-python",
      "name": "python",
      "nbconvert_exporter": "python",
      "pygments_lexer": "ipython3",
      "version": "3.9.7"
    }
  },
  "nbformat": 4,
  "nbformat_minor": 0
}
