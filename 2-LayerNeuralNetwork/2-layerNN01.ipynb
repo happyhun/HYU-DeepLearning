{
  "cells": [
    {
      "cell_type": "code",
      "execution_count": 21,
      "metadata": {
        "colab": {
          "base_uri": "https://localhost:8080/"
        },
        "id": "Ko4R5XFZ41rc",
        "outputId": "d71e3688-286c-4bb4-998f-6fdf378933ad"
      },
      "outputs": [
        {
          "name": "stdout",
          "output_type": "stream",
          "text": [
            "[[105.54651251 200.78795184  73.35778332 ... 335.88511057  97.28559089\n",
            "   68.61076916]]\n",
            "[[1 0 1 ... 0 1 1]]\n"
          ]
        }
      ],
      "source": [
        "import random\n",
        "import math\n",
        "import numpy as np\n",
        "\n",
        "# m개의 train samples, n개의 test samples\n",
        "m, n = 10000, 1000\n",
        "\n",
        "# sample 생성 함수 정의\n",
        "def generate_sample(num):\n",
        "    x, y = [], []\n",
        "    for i in range(num):\n",
        "        degree_value = random.uniform(0, 360)\n",
        "        sine_value = math.sin(math.radians(degree_value))\n",
        "        x.append(degree_value)\n",
        "        if sine_value > 0:\n",
        "            y.append(1)\n",
        "        else:\n",
        "            y.append(0)\n",
        "    x = np.array([x])\n",
        "    y = np.array([y])\n",
        "    \n",
        "    return x, y \n",
        "\n",
        "# train samples 와 test samples 생성\n",
        "x_train, y_train = generate_sample(m)\n",
        "x_test, y_test = generate_sample(n)\n",
        "\n",
        "print(x_train)\n",
        "print(y_train)"
      ]
    },
    {
      "cell_type": "code",
      "execution_count": 22,
      "metadata": {
        "colab": {
          "base_uri": "https://localhost:8080/"
        },
        "id": "GtWFx6sYGtzw",
        "outputId": "56c7361c-28f3-4657-ee01-2f0d863597fe"
      },
      "outputs": [
        {
          "name": "stdout",
          "output_type": "stream",
          "text": [
            "1번째 W1:[[-0.01197007]], W2:[[2.01810181]], b1:[[0.12163559]], b2:[[-0.08633925]]\n",
            "2번째 W1:[[-0.01186554]], W2:[[2.03724596]], b1:[[0.14430636]], b2:[[-0.12045084]]\n",
            "3번째 W1:[[-0.01178064]], W2:[[2.0569626]], b1:[[0.16763844]], b2:[[-0.15195998]]\n",
            "4번째 W1:[[-0.01171341]], W2:[[2.07721824]], b1:[[0.19159348]], b2:[[-0.18116622]]\n",
            "5번째 W1:[[-0.0116621]], W2:[[2.09798121]], b1:[[0.21613485]], b2:[[-0.20833731]]\n",
            "6번째 W1:[[-0.01162514]], W2:[[2.11922165]], b1:[[0.24122763]], b2:[[-0.23371227]]\n",
            "7번째 W1:[[-0.01160114]], W2:[[2.14091142]], b1:[[0.26683846]], b2:[[-0.25750433]]\n",
            "8번째 W1:[[-0.01158884]], W2:[[2.16302405]], b1:[[0.29293552]], b2:[[-0.27990355]]\n",
            "9번째 W1:[[-0.01158715]], W2:[[2.18553459]], b1:[[0.31948835]], b2:[[-0.30107923]]\n",
            "10번째 W1:[[-0.01159505]], W2:[[2.20841956]], b1:[[0.34646779]], b2:[[-0.32118211]]\n",
            "[[105.54651251 200.78795184  73.35778332]]\n",
            "[[-0.87740114 -1.98172812 -0.50417199]]\n",
            "[[0.29371661 0.12113474 0.37656074]]\n",
            "[[ 0.32749308 -0.05363215  0.51044385]]\n",
            "[[0.58114928 0.48659518 0.62491052]]\n"
          ]
        }
      ],
      "source": [
        "# W, b 를 초기화\n",
        "b1, b2 = 0.1, -0.05\n",
        "W1, W2 = np.array([[0.001]]), np.array([[2.0]])\n",
        "\n",
        "def sigmoid(x):\n",
        "    sig = 1 / (1 + np.exp(-x))\n",
        "    return sig\n",
        "\n",
        "# k번 업데이트\n",
        "k = 5000\n",
        "\n",
        "# alpha 값 지정 후 W, b 업데이트\n",
        "alpha = 0.001\n",
        "for i in range(int(k/500)):\n",
        "    for j in range(int(k/10)):\n",
        "        \n",
        "        # forward\n",
        "        Z1 = np.dot(W1.T, x_train) + b1\n",
        "        A1 = sigmoid(Z1)\n",
        "        Z2 = np.dot(W2.T, A1) + b2\n",
        "        A2 = sigmoid(Z2)\n",
        "        \n",
        "        # backpropagation\n",
        "        dZ2 = A2 - y_train \n",
        "        dW2 = np.dot(dZ2, A1.T) / m \n",
        "        db2 = np.sum(dZ2, axis=1, keepdims=True) / m\n",
        "        dZ1 = np.dot(W2.T, dZ2) * (A1 * (1 - A1))\n",
        "        dW1 = np.dot(dZ1, x_train.T) / m\n",
        "        db1 = np.sum(dZ1, axis=1, keepdims=True) / m\n",
        "\n",
        "        # W,b 업데이트\n",
        "        W1 -= alpha * dW1\n",
        "        b1 -= alpha * db1\n",
        "        W2 -= alpha * dW2\n",
        "        b2 -= alpha * db2\n",
        "        \n",
        "    # 500번마다 업데이트된 W,b 출력\n",
        "    print(f'{i+1}번째 W1:{W1}, W2:{W2}, b1:{b1}, b2:{b2}')\n",
        "    \n",
        "print(x_train[:, :3])\n",
        "print(Z1[:, :3])\n",
        "print(A1[:, :3])\n",
        "print(Z2[:, :3])\n",
        "print(A2[:, :3])\n"
      ]
    },
    {
      "cell_type": "code",
      "execution_count": 23,
      "metadata": {
        "colab": {
          "base_uri": "https://localhost:8080/"
        },
        "id": "n2zQRqM4Hlv9",
        "outputId": "308e8a5e-4ba6-4275-dba2-88cd94643340"
      },
      "outputs": [
        {
          "name": "stdout",
          "output_type": "stream",
          "text": [
            "train cost: [[0.56082391]]\n",
            "test cost: [[0.56432636]]\n"
          ]
        }
      ],
      "source": [
        "# cross-entropy loss 함수 정의\n",
        "def cost_func(W1, W2, x, y, num):\n",
        "    Z1 = np.dot(W1.T, x) + b1\n",
        "    A1 = sigmoid(Z1)\n",
        "    Z2 = np.dot(W2.T, A1) + b2\n",
        "    A2 = sigmoid(Z2)\n",
        "    J = -1 * (np.dot(y, np.log(A2).T) + np.dot((1-y), np.log(1-A2).T)) / num\n",
        "    return J\n",
        "# train cost와 test cost 출력\n",
        "print('train cost:', cost_func(W1, W2, x_train, y_train, m))\n",
        "print('test cost:', cost_func(W1, W2, x_test, y_test, n))"
      ]
    },
    {
      "cell_type": "code",
      "execution_count": 24,
      "metadata": {
        "colab": {
          "base_uri": "https://localhost:8080/"
        },
        "id": "VUSnpGOcrmO7",
        "outputId": "efb975c7-842b-4ff5-9f8f-16fa91ebe03c"
      },
      "outputs": [
        {
          "name": "stdout",
          "output_type": "stream",
          "text": [
            "train_accuracy: 99.37\n",
            "test_accuracy: 99.2\n"
          ]
        }
      ],
      "source": [
        "# train samples에 대한 accuracy와 test samples에 대한 accuracy 출력\n",
        "def accuracy(W1, W2, x, y):\n",
        "    Z1 = np.dot(W1.T, x) + b1\n",
        "    A1 = sigmoid(Z1)\n",
        "    Z2 = np.dot(W2.T, A1) + b2\n",
        "    A2 = sigmoid(Z2)\n",
        "    A2[A2 > 0.5] = 1\n",
        "    A2[A2 < 0.5] = 0\n",
        "    accuracy = np.mean(np.equal(y, A2)) * 100\n",
        "    return accuracy\n",
        "\n",
        "print('train_accuracy:', accuracy(W1, W2, x_train, y_train))\n",
        "print('test_accuracy:', accuracy(W1, W2, x_test, y_test))\n"
      ]
    },
    {
      "cell_type": "code",
      "execution_count": null,
      "metadata": {
        "id": "Tu7jIARksmof"
      },
      "outputs": [],
      "source": []
    }
  ],
  "metadata": {
    "colab": {
      "collapsed_sections": [],
      "name": "딥러닝 과제2-1.ipynb",
      "provenance": []
    },
    "kernelspec": {
      "display_name": "Python 3",
      "name": "python3"
    },
    "language_info": {
      "codemirror_mode": {
        "name": "ipython",
        "version": 3
      },
      "file_extension": ".py",
      "mimetype": "text/x-python",
      "name": "python",
      "nbconvert_exporter": "python",
      "pygments_lexer": "ipython3",
      "version": "3.9.7"
    }
  },
  "nbformat": 4,
  "nbformat_minor": 0
}
